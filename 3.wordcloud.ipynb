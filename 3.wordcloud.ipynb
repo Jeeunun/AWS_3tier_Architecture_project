{
 "cells": [
  {
   "cell_type": "code",
   "execution_count": 12,
   "id": "6f1cd3c4",
   "metadata": {},
   "outputs": [],
   "source": [
    "import pandas as pd"
   ]
  },
  {
   "cell_type": "code",
   "execution_count": 14,
   "id": "6706ddf8",
   "metadata": {},
   "outputs": [
    {
     "data": {
      "text/html": [
       "<div>\n",
       "<style scoped>\n",
       "    .dataframe tbody tr th:only-of-type {\n",
       "        vertical-align: middle;\n",
       "    }\n",
       "\n",
       "    .dataframe tbody tr th {\n",
       "        vertical-align: top;\n",
       "    }\n",
       "\n",
       "    .dataframe thead th {\n",
       "        text-align: right;\n",
       "    }\n",
       "</style>\n",
       "<table border=\"1\" class=\"dataframe\">\n",
       "  <thead>\n",
       "    <tr style=\"text-align: right;\">\n",
       "      <th></th>\n",
       "      <th>name</th>\n",
       "      <th>date</th>\n",
       "      <th>en</th>\n",
       "      <th>price</th>\n",
       "      <th>percent</th>\n",
       "    </tr>\n",
       "  </thead>\n",
       "  <tbody>\n",
       "    <tr>\n",
       "      <th>0</th>\n",
       "      <td>미국</td>\n",
       "      <td>2025.06.20</td>\n",
       "      <td>USDKRW</td>\n",
       "      <td>1,377.64</td>\n",
       "      <td>-0.32%</td>\n",
       "    </tr>\n",
       "    <tr>\n",
       "      <th>1</th>\n",
       "      <td>일본</td>\n",
       "      <td>2025.06.20</td>\n",
       "      <td>JPYKRW</td>\n",
       "      <td>948.37</td>\n",
       "      <td>-0.02%</td>\n",
       "    </tr>\n",
       "    <tr>\n",
       "      <th>2</th>\n",
       "      <td>중국</td>\n",
       "      <td>2025.06.20</td>\n",
       "      <td>CNYKRW</td>\n",
       "      <td>191.64</td>\n",
       "      <td>-0.31%</td>\n",
       "    </tr>\n",
       "    <tr>\n",
       "      <th>3</th>\n",
       "      <td>유로</td>\n",
       "      <td>2025.06.20</td>\n",
       "      <td>EURKRW</td>\n",
       "      <td>1,584.48</td>\n",
       "      <td>+0.02%</td>\n",
       "    </tr>\n",
       "    <tr>\n",
       "      <th>4</th>\n",
       "      <td>홍콩</td>\n",
       "      <td>2025.06.20</td>\n",
       "      <td>HKDKRW</td>\n",
       "      <td>175.49</td>\n",
       "      <td>-0.32%</td>\n",
       "    </tr>\n",
       "  </tbody>\n",
       "</table>\n",
       "</div>"
      ],
      "text/plain": [
       "  name        date      en     price percent\n",
       "0   미국  2025.06.20  USDKRW  1,377.64  -0.32%\n",
       "1   일본  2025.06.20  JPYKRW    948.37  -0.02%\n",
       "2   중국  2025.06.20  CNYKRW    191.64  -0.31%\n",
       "3   유로  2025.06.20  EURKRW  1,584.48  +0.02%\n",
       "4   홍콩  2025.06.20  HKDKRW    175.49  -0.32%"
      ]
     },
     "execution_count": 14,
     "metadata": {},
     "output_type": "execute_result"
    }
   ],
   "source": [
    "currency = pd.read_csv('./data/currencies.csv')\n",
    "currency = currency.drop(currency.columns[0], axis=1)\n",
    "currency"
   ]
  },
  {
   "cell_type": "code",
   "execution_count": 15,
   "id": "08950cbe",
   "metadata": {},
   "outputs": [
    {
     "data": {
      "text/html": [
       "<div>\n",
       "<style scoped>\n",
       "    .dataframe tbody tr th:only-of-type {\n",
       "        vertical-align: middle;\n",
       "    }\n",
       "\n",
       "    .dataframe tbody tr th {\n",
       "        vertical-align: top;\n",
       "    }\n",
       "\n",
       "    .dataframe thead th {\n",
       "        text-align: right;\n",
       "    }\n",
       "</style>\n",
       "<table border=\"1\" class=\"dataframe\">\n",
       "  <thead>\n",
       "    <tr style=\"text-align: right;\">\n",
       "      <th></th>\n",
       "      <th>name</th>\n",
       "      <th>date</th>\n",
       "      <th>price</th>\n",
       "    </tr>\n",
       "  </thead>\n",
       "  <tbody>\n",
       "    <tr>\n",
       "      <th>0</th>\n",
       "      <td>소비자물가지수</td>\n",
       "      <td>2025.05</td>\n",
       "      <td>116.27</td>\n",
       "    </tr>\n",
       "    <tr>\n",
       "      <th>1</th>\n",
       "      <td>경제성장률(GDP, 실질)</td>\n",
       "      <td>전년 대비</td>\n",
       "      <td>1.40</td>\n",
       "    </tr>\n",
       "    <tr>\n",
       "      <th>2</th>\n",
       "      <td>실업률</td>\n",
       "      <td>2025.05</td>\n",
       "      <td>2.80</td>\n",
       "    </tr>\n",
       "    <tr>\n",
       "      <th>3</th>\n",
       "      <td>경상수지</td>\n",
       "      <td>2025.04</td>\n",
       "      <td>5,701.70</td>\n",
       "    </tr>\n",
       "    <tr>\n",
       "      <th>4</th>\n",
       "      <td>투자자 예탁금(백만원)</td>\n",
       "      <td>2025.05</td>\n",
       "      <td>57,297,162.00</td>\n",
       "    </tr>\n",
       "  </tbody>\n",
       "</table>\n",
       "</div>"
      ],
      "text/plain": [
       "             name     date          price\n",
       "0         소비자물가지수  2025.05         116.27\n",
       "1  경제성장률(GDP, 실질)    전년 대비           1.40\n",
       "2             실업률  2025.05           2.80\n",
       "3            경상수지  2025.04       5,701.70\n",
       "4    투자자 예탁금(백만원)  2025.05  57,297,162.00"
      ]
     },
     "execution_count": 15,
     "metadata": {},
     "output_type": "execute_result"
    }
   ],
   "source": [
    "indicators = pd.read_csv('./data/indicators.csv')\n",
    "indicators = indicators.drop(indicators.columns[0], axis=1)\n",
    "indicators"
   ]
  },
  {
   "cell_type": "markdown",
   "id": "1a8e3c43",
   "metadata": {},
   "source": [
    "********************"
   ]
  },
  {
   "cell_type": "code",
   "execution_count": null,
   "id": "196fa273",
   "metadata": {},
   "outputs": [],
   "source": []
  }
 ],
 "metadata": {
  "kernelspec": {
   "display_name": "Python 3",
   "language": "python",
   "name": "python3"
  },
  "language_info": {
   "codemirror_mode": {
    "name": "ipython",
    "version": 3
   },
   "file_extension": ".py",
   "mimetype": "text/x-python",
   "name": "python",
   "nbconvert_exporter": "python",
   "pygments_lexer": "ipython3",
   "version": "3.11.9"
  }
 },
 "nbformat": 4,
 "nbformat_minor": 5
}
